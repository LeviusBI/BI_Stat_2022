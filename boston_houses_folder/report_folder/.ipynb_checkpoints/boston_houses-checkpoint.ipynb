{
 "cells": [
  {
   "cell_type": "markdown",
   "id": "12804b7a",
   "metadata": {},
   "source": [
    "# Boston housing"
   ]
  },
  {
   "cell_type": "markdown",
   "id": "9ae8aeea",
   "metadata": {},
   "source": [
    "## During this project we process data on housing values in Boston in the 1970-1980s. We need to create a linear model, firstly applying predictor standardization.  The model does not need to take into account the interactions of predictors. Then we need to make a diagnostics of the model by 4 steps. The last we need to do is the plot of cost predictions from a variable that has the largest coefficient in absolute value."
   ]
  },
  {
   "cell_type": "code",
   "execution_count": 19,
   "id": "d85d8fec",
   "metadata": {},
   "outputs": [],
   "source": [
    "import numpy as np\n",
    "import pandas as pd\n",
    "import seaborn as sns\n",
    "import matplotlib.pyplot as plt\n",
    "import statsmodels.api as sm\n",
    "import statsmodels.formula.api as smf\n",
    "from scipy import stats\n",
    "\n",
    "from scipy.stats import ttest_ind, mannwhitneyu"
   ]
  },
  {
   "cell_type": "code",
   "execution_count": 102,
   "id": "0310ac9b",
   "metadata": {},
   "outputs": [],
   "source": [
    "np.random.seed(0)"
   ]
  },
  {
   "cell_type": "code",
   "execution_count": 20,
   "id": "20770664",
   "metadata": {},
   "outputs": [],
   "source": [
    "sns.set_theme(context='notebook', \n",
    "                  style='darkgrid', \n",
    "                  palette='deep', \n",
    "                  font='sans-serif', font_scale=1, color_codes=True, rc=None)\n",
    "sns.set_palette(\"pastel\")"
   ]
  },
  {
   "cell_type": "code",
   "execution_count": 21,
   "id": "0acbf61f",
   "metadata": {
    "scrolled": false
   },
   "outputs": [],
   "source": [
    "boston_data = pd.read_csv(\"../RawData/BostonHousing.csv\")"
   ]
  },
  {
   "cell_type": "code",
   "execution_count": 22,
   "id": "26d95a80",
   "metadata": {},
   "outputs": [
    {
     "data": {
      "text/html": [
       "<div>\n",
       "<style scoped>\n",
       "    .dataframe tbody tr th:only-of-type {\n",
       "        vertical-align: middle;\n",
       "    }\n",
       "\n",
       "    .dataframe tbody tr th {\n",
       "        vertical-align: top;\n",
       "    }\n",
       "\n",
       "    .dataframe thead th {\n",
       "        text-align: right;\n",
       "    }\n",
       "</style>\n",
       "<table border=\"1\" class=\"dataframe\">\n",
       "  <thead>\n",
       "    <tr style=\"text-align: right;\">\n",
       "      <th></th>\n",
       "      <th>crim</th>\n",
       "      <th>zn</th>\n",
       "      <th>indus</th>\n",
       "      <th>chas</th>\n",
       "      <th>nox</th>\n",
       "      <th>rm</th>\n",
       "      <th>age</th>\n",
       "      <th>dis</th>\n",
       "      <th>rad</th>\n",
       "      <th>tax</th>\n",
       "      <th>ptratio</th>\n",
       "      <th>b</th>\n",
       "      <th>lstat</th>\n",
       "      <th>medv</th>\n",
       "    </tr>\n",
       "  </thead>\n",
       "  <tbody>\n",
       "    <tr>\n",
       "      <th>0</th>\n",
       "      <td>0.00632</td>\n",
       "      <td>18.0</td>\n",
       "      <td>2.31</td>\n",
       "      <td>0</td>\n",
       "      <td>0.538</td>\n",
       "      <td>6.575</td>\n",
       "      <td>65.2</td>\n",
       "      <td>4.0900</td>\n",
       "      <td>1</td>\n",
       "      <td>296</td>\n",
       "      <td>15.3</td>\n",
       "      <td>396.90</td>\n",
       "      <td>4.98</td>\n",
       "      <td>24.0</td>\n",
       "    </tr>\n",
       "    <tr>\n",
       "      <th>1</th>\n",
       "      <td>0.02731</td>\n",
       "      <td>0.0</td>\n",
       "      <td>7.07</td>\n",
       "      <td>0</td>\n",
       "      <td>0.469</td>\n",
       "      <td>6.421</td>\n",
       "      <td>78.9</td>\n",
       "      <td>4.9671</td>\n",
       "      <td>2</td>\n",
       "      <td>242</td>\n",
       "      <td>17.8</td>\n",
       "      <td>396.90</td>\n",
       "      <td>9.14</td>\n",
       "      <td>21.6</td>\n",
       "    </tr>\n",
       "    <tr>\n",
       "      <th>2</th>\n",
       "      <td>0.02729</td>\n",
       "      <td>0.0</td>\n",
       "      <td>7.07</td>\n",
       "      <td>0</td>\n",
       "      <td>0.469</td>\n",
       "      <td>7.185</td>\n",
       "      <td>61.1</td>\n",
       "      <td>4.9671</td>\n",
       "      <td>2</td>\n",
       "      <td>242</td>\n",
       "      <td>17.8</td>\n",
       "      <td>392.83</td>\n",
       "      <td>4.03</td>\n",
       "      <td>34.7</td>\n",
       "    </tr>\n",
       "    <tr>\n",
       "      <th>3</th>\n",
       "      <td>0.03237</td>\n",
       "      <td>0.0</td>\n",
       "      <td>2.18</td>\n",
       "      <td>0</td>\n",
       "      <td>0.458</td>\n",
       "      <td>6.998</td>\n",
       "      <td>45.8</td>\n",
       "      <td>6.0622</td>\n",
       "      <td>3</td>\n",
       "      <td>222</td>\n",
       "      <td>18.7</td>\n",
       "      <td>394.63</td>\n",
       "      <td>2.94</td>\n",
       "      <td>33.4</td>\n",
       "    </tr>\n",
       "    <tr>\n",
       "      <th>4</th>\n",
       "      <td>0.06905</td>\n",
       "      <td>0.0</td>\n",
       "      <td>2.18</td>\n",
       "      <td>0</td>\n",
       "      <td>0.458</td>\n",
       "      <td>7.147</td>\n",
       "      <td>54.2</td>\n",
       "      <td>6.0622</td>\n",
       "      <td>3</td>\n",
       "      <td>222</td>\n",
       "      <td>18.7</td>\n",
       "      <td>396.90</td>\n",
       "      <td>5.33</td>\n",
       "      <td>36.2</td>\n",
       "    </tr>\n",
       "    <tr>\n",
       "      <th>...</th>\n",
       "      <td>...</td>\n",
       "      <td>...</td>\n",
       "      <td>...</td>\n",
       "      <td>...</td>\n",
       "      <td>...</td>\n",
       "      <td>...</td>\n",
       "      <td>...</td>\n",
       "      <td>...</td>\n",
       "      <td>...</td>\n",
       "      <td>...</td>\n",
       "      <td>...</td>\n",
       "      <td>...</td>\n",
       "      <td>...</td>\n",
       "      <td>...</td>\n",
       "    </tr>\n",
       "    <tr>\n",
       "      <th>501</th>\n",
       "      <td>0.06263</td>\n",
       "      <td>0.0</td>\n",
       "      <td>11.93</td>\n",
       "      <td>0</td>\n",
       "      <td>0.573</td>\n",
       "      <td>6.593</td>\n",
       "      <td>69.1</td>\n",
       "      <td>2.4786</td>\n",
       "      <td>1</td>\n",
       "      <td>273</td>\n",
       "      <td>21.0</td>\n",
       "      <td>391.99</td>\n",
       "      <td>9.67</td>\n",
       "      <td>22.4</td>\n",
       "    </tr>\n",
       "    <tr>\n",
       "      <th>502</th>\n",
       "      <td>0.04527</td>\n",
       "      <td>0.0</td>\n",
       "      <td>11.93</td>\n",
       "      <td>0</td>\n",
       "      <td>0.573</td>\n",
       "      <td>6.120</td>\n",
       "      <td>76.7</td>\n",
       "      <td>2.2875</td>\n",
       "      <td>1</td>\n",
       "      <td>273</td>\n",
       "      <td>21.0</td>\n",
       "      <td>396.90</td>\n",
       "      <td>9.08</td>\n",
       "      <td>20.6</td>\n",
       "    </tr>\n",
       "    <tr>\n",
       "      <th>503</th>\n",
       "      <td>0.06076</td>\n",
       "      <td>0.0</td>\n",
       "      <td>11.93</td>\n",
       "      <td>0</td>\n",
       "      <td>0.573</td>\n",
       "      <td>6.976</td>\n",
       "      <td>91.0</td>\n",
       "      <td>2.1675</td>\n",
       "      <td>1</td>\n",
       "      <td>273</td>\n",
       "      <td>21.0</td>\n",
       "      <td>396.90</td>\n",
       "      <td>5.64</td>\n",
       "      <td>23.9</td>\n",
       "    </tr>\n",
       "    <tr>\n",
       "      <th>504</th>\n",
       "      <td>0.10959</td>\n",
       "      <td>0.0</td>\n",
       "      <td>11.93</td>\n",
       "      <td>0</td>\n",
       "      <td>0.573</td>\n",
       "      <td>6.794</td>\n",
       "      <td>89.3</td>\n",
       "      <td>2.3889</td>\n",
       "      <td>1</td>\n",
       "      <td>273</td>\n",
       "      <td>21.0</td>\n",
       "      <td>393.45</td>\n",
       "      <td>6.48</td>\n",
       "      <td>22.0</td>\n",
       "    </tr>\n",
       "    <tr>\n",
       "      <th>505</th>\n",
       "      <td>0.04741</td>\n",
       "      <td>0.0</td>\n",
       "      <td>11.93</td>\n",
       "      <td>0</td>\n",
       "      <td>0.573</td>\n",
       "      <td>6.030</td>\n",
       "      <td>80.8</td>\n",
       "      <td>2.5050</td>\n",
       "      <td>1</td>\n",
       "      <td>273</td>\n",
       "      <td>21.0</td>\n",
       "      <td>396.90</td>\n",
       "      <td>7.88</td>\n",
       "      <td>11.9</td>\n",
       "    </tr>\n",
       "  </tbody>\n",
       "</table>\n",
       "<p>506 rows × 14 columns</p>\n",
       "</div>"
      ],
      "text/plain": [
       "        crim    zn  indus  chas    nox     rm   age     dis  rad  tax  \\\n",
       "0    0.00632  18.0   2.31     0  0.538  6.575  65.2  4.0900    1  296   \n",
       "1    0.02731   0.0   7.07     0  0.469  6.421  78.9  4.9671    2  242   \n",
       "2    0.02729   0.0   7.07     0  0.469  7.185  61.1  4.9671    2  242   \n",
       "3    0.03237   0.0   2.18     0  0.458  6.998  45.8  6.0622    3  222   \n",
       "4    0.06905   0.0   2.18     0  0.458  7.147  54.2  6.0622    3  222   \n",
       "..       ...   ...    ...   ...    ...    ...   ...     ...  ...  ...   \n",
       "501  0.06263   0.0  11.93     0  0.573  6.593  69.1  2.4786    1  273   \n",
       "502  0.04527   0.0  11.93     0  0.573  6.120  76.7  2.2875    1  273   \n",
       "503  0.06076   0.0  11.93     0  0.573  6.976  91.0  2.1675    1  273   \n",
       "504  0.10959   0.0  11.93     0  0.573  6.794  89.3  2.3889    1  273   \n",
       "505  0.04741   0.0  11.93     0  0.573  6.030  80.8  2.5050    1  273   \n",
       "\n",
       "     ptratio       b  lstat  medv  \n",
       "0       15.3  396.90   4.98  24.0  \n",
       "1       17.8  396.90   9.14  21.6  \n",
       "2       17.8  392.83   4.03  34.7  \n",
       "3       18.7  394.63   2.94  33.4  \n",
       "4       18.7  396.90   5.33  36.2  \n",
       "..       ...     ...    ...   ...  \n",
       "501     21.0  391.99   9.67  22.4  \n",
       "502     21.0  396.90   9.08  20.6  \n",
       "503     21.0  396.90   5.64  23.9  \n",
       "504     21.0  393.45   6.48  22.0  \n",
       "505     21.0  396.90   7.88  11.9  \n",
       "\n",
       "[506 rows x 14 columns]"
      ]
     },
     "execution_count": 22,
     "metadata": {},
     "output_type": "execute_result"
    }
   ],
   "source": [
    "boston_data"
   ]
  },
  {
   "cell_type": "markdown",
   "id": "a1f7430a",
   "metadata": {},
   "source": [
    "We have 14 variables with 506 obervations of each. In this project we are interested in how does the variable <span style=\"color:red\">medv</span> (value, 1000\\$) depends on other variables. The headers mean:  \n",
    "\n",
    "1. <span style=\"color:red\">crim</span> - per capita crime rate by tow;  \n",
    "2. <span style=\"color:red\">zn</span> - proportion of residential land zoned for lots over 25,000 sq.ft.;  \n",
    "3. <span style=\"color:yellow\">indus</span> - proportion of non-retail business acres per town;  \n",
    "4. <span style=\"color:red\">chas</span> - Charles River dummy variable (= 1 if tract bounds river; 0 otherwise);  \n",
    "5. <span style=\"color:red\">nox</span> - nitrogen oxides concentration (parts per 10 million);  \n",
    "6. <span style=\"color:red\">rm</span> - average number of rooms per dwelling;  \n",
    "7. <span style=\"color:red\">age</span> - proportion of owner-occupied units built prior to 1940;  \n",
    "8. <span style=\"color:red\">dis</span> - weighted mean of distances to five Boston employment centres;  \n",
    "9. <span style=\"color:red\">rad</span> - index of accessibility to radial highways;  \n",
    "10. <span style=\"color:red\">tax</span> - full-value property-tax rate per 10,000 dollars;  \n",
    "11. <span style=\"color:red\">ptratio</span> - pupil-teacher ratio by town;  \n",
    "12. <span style=\"color:black\">b</span> - 1000(Bk - 0.63)^2 where Bk is the proportion of blacks by town;  \n",
    "13. <span style=\"color:red\">lstat</span> - lower status of the population (percent).  \n",
    "\n",
    "This information was taken from [this website](<https://www.kaggle.com/competitions/boston-housing/overview>)."
   ]
  },
  {
   "cell_type": "code",
   "execution_count": 23,
   "id": "c925e037",
   "metadata": {},
   "outputs": [
    {
     "name": "stdout",
     "output_type": "stream",
     "text": [
      "<class 'pandas.core.frame.DataFrame'>\n",
      "RangeIndex: 506 entries, 0 to 505\n",
      "Data columns (total 14 columns):\n",
      " #   Column   Non-Null Count  Dtype  \n",
      "---  ------   --------------  -----  \n",
      " 0   crim     506 non-null    float64\n",
      " 1   zn       506 non-null    float64\n",
      " 2   indus    506 non-null    float64\n",
      " 3   chas     506 non-null    int64  \n",
      " 4   nox      506 non-null    float64\n",
      " 5   rm       506 non-null    float64\n",
      " 6   age      506 non-null    float64\n",
      " 7   dis      506 non-null    float64\n",
      " 8   rad      506 non-null    int64  \n",
      " 9   tax      506 non-null    int64  \n",
      " 10  ptratio  506 non-null    float64\n",
      " 11  b        506 non-null    float64\n",
      " 12  lstat    506 non-null    float64\n",
      " 13  medv     506 non-null    float64\n",
      "dtypes: float64(11), int64(3)\n",
      "memory usage: 55.5 KB\n"
     ]
    }
   ],
   "source": [
    "boston_data.info()"
   ]
  },
  {
   "cell_type": "markdown",
   "id": "5c7cb0d1",
   "metadata": {},
   "source": [
    "As we can see there is no NA, Null or NaN values. Furtheremore, all observations of all variables do not contain str type of data. From previous step we also know that <span style=\"color:red\">chas</span> variable can be only 0 or 1, so in further investigation we can use at as factor."
   ]
  },
  {
   "cell_type": "code",
   "execution_count": 24,
   "id": "c4eaed49",
   "metadata": {
    "scrolled": true
   },
   "outputs": [
    {
     "data": {
      "text/html": [
       "<div>\n",
       "<style scoped>\n",
       "    .dataframe tbody tr th:only-of-type {\n",
       "        vertical-align: middle;\n",
       "    }\n",
       "\n",
       "    .dataframe tbody tr th {\n",
       "        vertical-align: top;\n",
       "    }\n",
       "\n",
       "    .dataframe thead th {\n",
       "        text-align: right;\n",
       "    }\n",
       "</style>\n",
       "<table border=\"1\" class=\"dataframe\">\n",
       "  <thead>\n",
       "    <tr style=\"text-align: right;\">\n",
       "      <th></th>\n",
       "      <th>crim</th>\n",
       "      <th>zn</th>\n",
       "      <th>indus</th>\n",
       "      <th>chas</th>\n",
       "      <th>nox</th>\n",
       "      <th>rm</th>\n",
       "      <th>age</th>\n",
       "      <th>dis</th>\n",
       "      <th>rad</th>\n",
       "      <th>tax</th>\n",
       "      <th>ptratio</th>\n",
       "      <th>b</th>\n",
       "      <th>lstat</th>\n",
       "      <th>medv</th>\n",
       "    </tr>\n",
       "  </thead>\n",
       "  <tbody>\n",
       "    <tr>\n",
       "      <th>count</th>\n",
       "      <td>506.000000</td>\n",
       "      <td>506.000000</td>\n",
       "      <td>506.000000</td>\n",
       "      <td>506.000000</td>\n",
       "      <td>506.000000</td>\n",
       "      <td>506.000000</td>\n",
       "      <td>506.000000</td>\n",
       "      <td>506.000000</td>\n",
       "      <td>506.000000</td>\n",
       "      <td>506.000000</td>\n",
       "      <td>506.000000</td>\n",
       "      <td>506.000000</td>\n",
       "      <td>506.000000</td>\n",
       "      <td>506.000000</td>\n",
       "    </tr>\n",
       "    <tr>\n",
       "      <th>mean</th>\n",
       "      <td>3.613524</td>\n",
       "      <td>11.363636</td>\n",
       "      <td>11.136779</td>\n",
       "      <td>0.069170</td>\n",
       "      <td>0.554695</td>\n",
       "      <td>6.284634</td>\n",
       "      <td>68.574901</td>\n",
       "      <td>3.795043</td>\n",
       "      <td>9.549407</td>\n",
       "      <td>408.237154</td>\n",
       "      <td>18.455534</td>\n",
       "      <td>356.674032</td>\n",
       "      <td>12.653063</td>\n",
       "      <td>22.532806</td>\n",
       "    </tr>\n",
       "    <tr>\n",
       "      <th>std</th>\n",
       "      <td>8.601545</td>\n",
       "      <td>23.322453</td>\n",
       "      <td>6.860353</td>\n",
       "      <td>0.253994</td>\n",
       "      <td>0.115878</td>\n",
       "      <td>0.702617</td>\n",
       "      <td>28.148861</td>\n",
       "      <td>2.105710</td>\n",
       "      <td>8.707259</td>\n",
       "      <td>168.537116</td>\n",
       "      <td>2.164946</td>\n",
       "      <td>91.294864</td>\n",
       "      <td>7.141062</td>\n",
       "      <td>9.197104</td>\n",
       "    </tr>\n",
       "    <tr>\n",
       "      <th>min</th>\n",
       "      <td>0.006320</td>\n",
       "      <td>0.000000</td>\n",
       "      <td>0.460000</td>\n",
       "      <td>0.000000</td>\n",
       "      <td>0.385000</td>\n",
       "      <td>3.561000</td>\n",
       "      <td>2.900000</td>\n",
       "      <td>1.129600</td>\n",
       "      <td>1.000000</td>\n",
       "      <td>187.000000</td>\n",
       "      <td>12.600000</td>\n",
       "      <td>0.320000</td>\n",
       "      <td>1.730000</td>\n",
       "      <td>5.000000</td>\n",
       "    </tr>\n",
       "    <tr>\n",
       "      <th>25%</th>\n",
       "      <td>0.082045</td>\n",
       "      <td>0.000000</td>\n",
       "      <td>5.190000</td>\n",
       "      <td>0.000000</td>\n",
       "      <td>0.449000</td>\n",
       "      <td>5.885500</td>\n",
       "      <td>45.025000</td>\n",
       "      <td>2.100175</td>\n",
       "      <td>4.000000</td>\n",
       "      <td>279.000000</td>\n",
       "      <td>17.400000</td>\n",
       "      <td>375.377500</td>\n",
       "      <td>6.950000</td>\n",
       "      <td>17.025000</td>\n",
       "    </tr>\n",
       "    <tr>\n",
       "      <th>50%</th>\n",
       "      <td>0.256510</td>\n",
       "      <td>0.000000</td>\n",
       "      <td>9.690000</td>\n",
       "      <td>0.000000</td>\n",
       "      <td>0.538000</td>\n",
       "      <td>6.208500</td>\n",
       "      <td>77.500000</td>\n",
       "      <td>3.207450</td>\n",
       "      <td>5.000000</td>\n",
       "      <td>330.000000</td>\n",
       "      <td>19.050000</td>\n",
       "      <td>391.440000</td>\n",
       "      <td>11.360000</td>\n",
       "      <td>21.200000</td>\n",
       "    </tr>\n",
       "    <tr>\n",
       "      <th>75%</th>\n",
       "      <td>3.677083</td>\n",
       "      <td>12.500000</td>\n",
       "      <td>18.100000</td>\n",
       "      <td>0.000000</td>\n",
       "      <td>0.624000</td>\n",
       "      <td>6.623500</td>\n",
       "      <td>94.075000</td>\n",
       "      <td>5.188425</td>\n",
       "      <td>24.000000</td>\n",
       "      <td>666.000000</td>\n",
       "      <td>20.200000</td>\n",
       "      <td>396.225000</td>\n",
       "      <td>16.955000</td>\n",
       "      <td>25.000000</td>\n",
       "    </tr>\n",
       "    <tr>\n",
       "      <th>max</th>\n",
       "      <td>88.976200</td>\n",
       "      <td>100.000000</td>\n",
       "      <td>27.740000</td>\n",
       "      <td>1.000000</td>\n",
       "      <td>0.871000</td>\n",
       "      <td>8.780000</td>\n",
       "      <td>100.000000</td>\n",
       "      <td>12.126500</td>\n",
       "      <td>24.000000</td>\n",
       "      <td>711.000000</td>\n",
       "      <td>22.000000</td>\n",
       "      <td>396.900000</td>\n",
       "      <td>37.970000</td>\n",
       "      <td>50.000000</td>\n",
       "    </tr>\n",
       "  </tbody>\n",
       "</table>\n",
       "</div>"
      ],
      "text/plain": [
       "             crim          zn       indus        chas         nox          rm  \\\n",
       "count  506.000000  506.000000  506.000000  506.000000  506.000000  506.000000   \n",
       "mean     3.613524   11.363636   11.136779    0.069170    0.554695    6.284634   \n",
       "std      8.601545   23.322453    6.860353    0.253994    0.115878    0.702617   \n",
       "min      0.006320    0.000000    0.460000    0.000000    0.385000    3.561000   \n",
       "25%      0.082045    0.000000    5.190000    0.000000    0.449000    5.885500   \n",
       "50%      0.256510    0.000000    9.690000    0.000000    0.538000    6.208500   \n",
       "75%      3.677083   12.500000   18.100000    0.000000    0.624000    6.623500   \n",
       "max     88.976200  100.000000   27.740000    1.000000    0.871000    8.780000   \n",
       "\n",
       "              age         dis         rad         tax     ptratio           b  \\\n",
       "count  506.000000  506.000000  506.000000  506.000000  506.000000  506.000000   \n",
       "mean    68.574901    3.795043    9.549407  408.237154   18.455534  356.674032   \n",
       "std     28.148861    2.105710    8.707259  168.537116    2.164946   91.294864   \n",
       "min      2.900000    1.129600    1.000000  187.000000   12.600000    0.320000   \n",
       "25%     45.025000    2.100175    4.000000  279.000000   17.400000  375.377500   \n",
       "50%     77.500000    3.207450    5.000000  330.000000   19.050000  391.440000   \n",
       "75%     94.075000    5.188425   24.000000  666.000000   20.200000  396.225000   \n",
       "max    100.000000   12.126500   24.000000  711.000000   22.000000  396.900000   \n",
       "\n",
       "            lstat        medv  \n",
       "count  506.000000  506.000000  \n",
       "mean    12.653063   22.532806  \n",
       "std      7.141062    9.197104  \n",
       "min      1.730000    5.000000  \n",
       "25%      6.950000   17.025000  \n",
       "50%     11.360000   21.200000  \n",
       "75%     16.955000   25.000000  \n",
       "max     37.970000   50.000000  "
      ]
     },
     "execution_count": 24,
     "metadata": {},
     "output_type": "execute_result"
    }
   ],
   "source": [
    "boston_data.describe()"
   ]
  },
  {
   "cell_type": "markdown",
   "id": "6890a44f",
   "metadata": {},
   "source": [
    "Now I would like to check"
   ]
  },
  {
   "cell_type": "code",
   "execution_count": 25,
   "id": "613de5d0",
   "metadata": {},
   "outputs": [],
   "source": [
    "near_river = boston_data[\"medv\"][boston_data[\"chas\"] == 1]\n",
    "far_from_river = boston_data[\"medv\"][boston_data[\"chas\"] == 0]"
   ]
  },
  {
   "cell_type": "code",
   "execution_count": 26,
   "id": "c96d59d8",
   "metadata": {},
   "outputs": [],
   "source": [
    "plt.rcParams[\"figure.figsize\"] = 10, 8\n",
    "plt.rcParams[\"font.size\"] = 14"
   ]
  },
  {
   "cell_type": "code",
   "execution_count": 27,
   "id": "9d956867",
   "metadata": {
    "scrolled": false
   },
   "outputs": [
    {
     "data": {
      "text/plain": [
       "<AxesSubplot:xlabel='medv', ylabel='Density'>"
      ]
     },
     "execution_count": 27,
     "metadata": {},
     "output_type": "execute_result"
    },
    {
     "data": {
      "image/png": "[encoded data removed]",
      "text/plain": [
       "<Figure size 1000x800 with 1 Axes>"
      ]
     },
     "metadata": {},
     "output_type": "display_data"
    }
   ],
   "source": [
    "sns.histplot(near_river, stat=\"density\", color=\"green\")\n",
    "sns.histplot(far_from_river, stat=\"density\", color=\"red\")"
   ]
  },
  {
   "cell_type": "markdown",
   "id": "e379b2f4",
   "metadata": {},
   "source": [
    "As we can see, there is something extraordinary behavior in distribution, so in further investigation it will more respectful to use non parametric tests, because in case of parametric tests we won't control probality of type 1 error. At least we see that there are more expensive houses"
   ]
  },
  {
   "cell_type": "markdown",
   "id": "d34571ff",
   "metadata": {},
   "source": [
    "## Linear model conctruction."
   ]
  },
  {
   "cell_type": "markdown",
   "id": "03f8901c",
   "metadata": {},
   "source": [
    "### Predictor standartization and model construction stage."
   ]
  },
  {
   "cell_type": "markdown",
   "id": "b6311996",
   "metadata": {},
   "source": [
    "Our values have different scales and units, so to get more correct coefficients before predictors we need to standardize observations of variables. But first I would like to split my data frame into 2 data frames: 1st will be a target value - <span style=\"color:red\">medv</span>; 2nd will be the features - other variables."
   ]
  },
  {
   "cell_type": "code",
   "execution_count": 28,
   "id": "47f4b1bf",
   "metadata": {},
   "outputs": [],
   "source": [
    "target = boston_data[\"medv\"]\n",
    "features = boston_data.loc[:,'crim':'lstat']"
   ]
  },
  {
   "cell_type": "code",
   "execution_count": 74,
   "id": "c055bd94",
   "metadata": {},
   "outputs": [],
   "source": [
    "mean = target.mean(axis=0)\n",
    "std = target.std(axis=0)\n",
    "\n",
    "scaled_target = (target - mean) / std"
   ]
  },
  {
   "cell_type": "code",
   "execution_count": 75,
   "id": "ff7217a8",
   "metadata": {
    "scrolled": true
   },
   "outputs": [
    {
     "data": {
      "text/html": [
       "<div>\n",
       "<style scoped>\n",
       "    .dataframe tbody tr th:only-of-type {\n",
       "        vertical-align: middle;\n",
       "    }\n",
       "\n",
       "    .dataframe tbody tr th {\n",
       "        vertical-align: top;\n",
       "    }\n",
       "\n",
       "    .dataframe thead th {\n",
       "        text-align: right;\n",
       "    }\n",
       "</style>\n",
       "<table border=\"1\" class=\"dataframe\">\n",
       "  <thead>\n",
       "    <tr style=\"text-align: right;\">\n",
       "      <th></th>\n",
       "      <th>crim</th>\n",
       "      <th>zn</th>\n",
       "      <th>indus</th>\n",
       "      <th>chas</th>\n",
       "      <th>nox</th>\n",
       "      <th>rm</th>\n",
       "      <th>age</th>\n",
       "      <th>dis</th>\n",
       "      <th>rad</th>\n",
       "      <th>tax</th>\n",
       "      <th>ptratio</th>\n",
       "      <th>b</th>\n",
       "      <th>lstat</th>\n",
       "    </tr>\n",
       "  </thead>\n",
       "  <tbody>\n",
       "    <tr>\n",
       "      <th>0</th>\n",
       "      <td>-0.419367</td>\n",
       "      <td>0.284548</td>\n",
       "      <td>-1.286636</td>\n",
       "      <td>-0.272329</td>\n",
       "      <td>-0.144075</td>\n",
       "      <td>0.413263</td>\n",
       "      <td>-0.119895</td>\n",
       "      <td>0.140075</td>\n",
       "      <td>-0.981871</td>\n",
       "      <td>-0.665949</td>\n",
       "      <td>-1.457558</td>\n",
       "      <td>0.440616</td>\n",
       "      <td>-1.074499</td>\n",
       "    </tr>\n",
       "    <tr>\n",
       "      <th>1</th>\n",
       "      <td>-0.416927</td>\n",
       "      <td>-0.487240</td>\n",
       "      <td>-0.592794</td>\n",
       "      <td>-0.272329</td>\n",
       "      <td>-0.739530</td>\n",
       "      <td>0.194082</td>\n",
       "      <td>0.366803</td>\n",
       "      <td>0.556609</td>\n",
       "      <td>-0.867024</td>\n",
       "      <td>-0.986353</td>\n",
       "      <td>-0.302794</td>\n",
       "      <td>0.440616</td>\n",
       "      <td>-0.491953</td>\n",
       "    </tr>\n",
       "    <tr>\n",
       "      <th>2</th>\n",
       "      <td>-0.416929</td>\n",
       "      <td>-0.487240</td>\n",
       "      <td>-0.592794</td>\n",
       "      <td>-0.272329</td>\n",
       "      <td>-0.739530</td>\n",
       "      <td>1.281446</td>\n",
       "      <td>-0.265549</td>\n",
       "      <td>0.556609</td>\n",
       "      <td>-0.867024</td>\n",
       "      <td>-0.986353</td>\n",
       "      <td>-0.302794</td>\n",
       "      <td>0.396035</td>\n",
       "      <td>-1.207532</td>\n",
       "    </tr>\n",
       "    <tr>\n",
       "      <th>3</th>\n",
       "      <td>-0.416338</td>\n",
       "      <td>-0.487240</td>\n",
       "      <td>-1.305586</td>\n",
       "      <td>-0.272329</td>\n",
       "      <td>-0.834458</td>\n",
       "      <td>1.015298</td>\n",
       "      <td>-0.809088</td>\n",
       "      <td>1.076671</td>\n",
       "      <td>-0.752178</td>\n",
       "      <td>-1.105022</td>\n",
       "      <td>0.112920</td>\n",
       "      <td>0.415751</td>\n",
       "      <td>-1.360171</td>\n",
       "    </tr>\n",
       "    <tr>\n",
       "      <th>4</th>\n",
       "      <td>-0.412074</td>\n",
       "      <td>-0.487240</td>\n",
       "      <td>-1.305586</td>\n",
       "      <td>-0.272329</td>\n",
       "      <td>-0.834458</td>\n",
       "      <td>1.227362</td>\n",
       "      <td>-0.510674</td>\n",
       "      <td>1.076671</td>\n",
       "      <td>-0.752178</td>\n",
       "      <td>-1.105022</td>\n",
       "      <td>0.112920</td>\n",
       "      <td>0.440616</td>\n",
       "      <td>-1.025487</td>\n",
       "    </tr>\n",
       "  </tbody>\n",
       "</table>\n",
       "</div>"
      ],
      "text/plain": [
       "       crim        zn     indus      chas       nox        rm       age  \\\n",
       "0 -0.419367  0.284548 -1.286636 -0.272329 -0.144075  0.413263 -0.119895   \n",
       "1 -0.416927 -0.487240 -0.592794 -0.272329 -0.739530  0.194082  0.366803   \n",
       "2 -0.416929 -0.487240 -0.592794 -0.272329 -0.739530  1.281446 -0.265549   \n",
       "3 -0.416338 -0.487240 -1.305586 -0.272329 -0.834458  1.015298 -0.809088   \n",
       "4 -0.412074 -0.487240 -1.305586 -0.272329 -0.834458  1.227362 -0.510674   \n",
       "\n",
       "        dis       rad       tax   ptratio         b     lstat  \n",
       "0  0.140075 -0.981871 -0.665949 -1.457558  0.440616 -1.074499  \n",
       "1  0.556609 -0.867024 -0.986353 -0.302794  0.440616 -0.491953  \n",
       "2  0.556609 -0.867024 -0.986353 -0.302794  0.396035 -1.207532  \n",
       "3  1.076671 -0.752178 -1.105022  0.112920  0.415751 -1.360171  \n",
       "4  1.076671 -0.752178 -1.105022  0.112920  0.440616 -1.025487  "
      ]
     },
     "execution_count": 75,
     "metadata": {},
     "output_type": "execute_result"
    }
   ],
   "source": [
    "means = features.mean(axis = 0)\n",
    "stds = features.std(axis = 0)\n",
    "\n",
    "scaled_features = (features - means) / stds\n",
    "\n",
    "scaled_features.head()"
   ]
  },
  {
   "cell_type": "code",
   "execution_count": 76,
   "id": "e99bb322",
   "metadata": {
    "scrolled": true
   },
   "outputs": [
    {
     "name": "stdout",
     "output_type": "stream",
     "text": [
      "                            OLS Regression Results                            \n",
      "==============================================================================\n",
      "Dep. Variable:                   medv   R-squared:                       0.741\n",
      "Model:                            OLS   Adj. R-squared:                  0.734\n",
      "Method:                 Least Squares   F-statistic:                     108.1\n",
      "Date:                Thu, 22 Dec 2022   Prob (F-statistic):          6.72e-135\n",
      "Time:                        00:00:09   Log-Likelihood:                -1498.8\n",
      "No. Observations:                 506   AIC:                             3026.\n",
      "Df Residuals:                     492   BIC:                             3085.\n",
      "Df Model:                          13                                         \n",
      "Covariance Type:            nonrobust                                         \n",
      "==============================================================================\n",
      "                 coef    std err          t      P>|t|      [0.025      0.975]\n",
      "------------------------------------------------------------------------------\n",
      "const         22.5328      0.211    106.814      0.000      22.118      22.947\n",
      "crim          -0.9291      0.283     -3.287      0.001      -1.484      -0.374\n",
      "zn             1.0826      0.320      3.382      0.001       0.454       1.712\n",
      "indus          0.1410      0.422      0.334      0.738      -0.688       0.970\n",
      "chas           0.6824      0.219      3.118      0.002       0.252       1.112\n",
      "nox           -2.0588      0.443     -4.651      0.000      -2.928      -1.189\n",
      "rm             2.6769      0.294      9.116      0.000       2.100       3.254\n",
      "age            0.0195      0.372      0.052      0.958      -0.711       0.750\n",
      "dis           -3.1071      0.420     -7.398      0.000      -3.932      -2.282\n",
      "rad            2.6649      0.578      4.613      0.000       1.530       3.800\n",
      "tax           -2.0788      0.634     -3.280      0.001      -3.324      -0.834\n",
      "ptratio       -2.0626      0.283     -7.283      0.000      -2.619      -1.506\n",
      "b              0.8501      0.245      3.467      0.001       0.368       1.332\n",
      "lstat         -3.7473      0.362    -10.347      0.000      -4.459      -3.036\n",
      "==============================================================================\n",
      "Omnibus:                      178.041   Durbin-Watson:                   1.078\n",
      "Prob(Omnibus):                  0.000   Jarque-Bera (JB):              783.126\n",
      "Skew:                           1.521   Prob(JB):                    8.84e-171\n",
      "Kurtosis:                       8.281   Cond. No.                         9.82\n",
      "==============================================================================\n",
      "\n",
      "Notes:\n",
      "[1] Standard Errors assume that the covariance matrix of the errors is correctly specified.\n"
     ]
    }
   ],
   "source": [
    "X = sm.add_constant(scaled_features)\n",
    "model = sm.OLS(target, X)\n",
    "result = model.fit()\n",
    "\n",
    "print(result.summary())"
   ]
  },
  {
   "cell_type": "markdown",
   "id": "b40f5285",
   "metadata": {},
   "source": [
    "We need to pay attention, that R-squared is quite big (0.741), what can tell us that this model have some possibilities to predict values. Furthermore, p-value of the model doesn't significantly differ from zero (6.72e-135). Basic model coefficients are shown below."
   ]
  },
  {
   "cell_type": "code",
   "execution_count": 77,
   "id": "b296ca8f",
   "metadata": {
    "scrolled": false
   },
   "outputs": [
    {
     "data": {
      "text/plain": [
       "<AxesSubplot:>"
      ]
     },
     "execution_count": 77,
     "metadata": {},
     "output_type": "execute_result"
    },
    {
     "data": {
      "image/png": "[encoded data removed]",
      "text/plain": [
       "<Figure size 1000x800 with 1 Axes>"
      ]
     },
     "metadata": {},
     "output_type": "display_data"
    }
   ],
   "source": [
    "sns.barplot(x=result.params.index, y = result.params, palette=\"viridis\")\n"
   ]
  },
  {
   "cell_type": "markdown",
   "id": "f9c8d457",
   "metadata": {},
   "source": [
    "I do not find it useful to make a prediction graph before the giagnostics have been done, because data procesiing will be a good practice as we don't know anything about variables. "
   ]
  },
  {
   "cell_type": "markdown",
   "id": "b787b67c",
   "metadata": {},
   "source": [
    "## Diagnostics of the model"
   ]
  },
  {
   "cell_type": "markdown",
   "id": "64ad52f3",
   "metadata": {},
   "source": [
    "### Linear independence "
   ]
  },
  {
   "cell_type": "code",
   "execution_count": 78,
   "id": "78df2793",
   "metadata": {},
   "outputs": [],
   "source": [
    "from statsmodels.stats.outliers_influence import variance_inflation_factor"
   ]
  },
  {
   "cell_type": "code",
   "execution_count": 79,
   "id": "a269b6b7",
   "metadata": {
    "scrolled": false
   },
   "outputs": [
    {
     "data": {
      "text/html": [
       "<div>\n",
       "<style scoped>\n",
       "    .dataframe tbody tr th:only-of-type {\n",
       "        vertical-align: middle;\n",
       "    }\n",
       "\n",
       "    .dataframe tbody tr th {\n",
       "        vertical-align: top;\n",
       "    }\n",
       "\n",
       "    .dataframe thead th {\n",
       "        text-align: right;\n",
       "    }\n",
       "</style>\n",
       "<table border=\"1\" class=\"dataframe\">\n",
       "  <thead>\n",
       "    <tr style=\"text-align: right;\">\n",
       "      <th></th>\n",
       "      <th>feature</th>\n",
       "      <th>VIF</th>\n",
       "    </tr>\n",
       "  </thead>\n",
       "  <tbody>\n",
       "    <tr>\n",
       "      <th>0</th>\n",
       "      <td>const</td>\n",
       "      <td>1.000000</td>\n",
       "    </tr>\n",
       "    <tr>\n",
       "      <th>1</th>\n",
       "      <td>crim</td>\n",
       "      <td>1.792192</td>\n",
       "    </tr>\n",
       "    <tr>\n",
       "      <th>2</th>\n",
       "      <td>zn</td>\n",
       "      <td>2.298758</td>\n",
       "    </tr>\n",
       "    <tr>\n",
       "      <th>3</th>\n",
       "      <td>indus</td>\n",
       "      <td>3.991596</td>\n",
       "    </tr>\n",
       "    <tr>\n",
       "      <th>4</th>\n",
       "      <td>chas</td>\n",
       "      <td>1.073995</td>\n",
       "    </tr>\n",
       "    <tr>\n",
       "      <th>5</th>\n",
       "      <td>nox</td>\n",
       "      <td>4.393720</td>\n",
       "    </tr>\n",
       "    <tr>\n",
       "      <th>6</th>\n",
       "      <td>rm</td>\n",
       "      <td>1.933744</td>\n",
       "    </tr>\n",
       "    <tr>\n",
       "      <th>7</th>\n",
       "      <td>age</td>\n",
       "      <td>3.100826</td>\n",
       "    </tr>\n",
       "    <tr>\n",
       "      <th>8</th>\n",
       "      <td>dis</td>\n",
       "      <td>3.955945</td>\n",
       "    </tr>\n",
       "    <tr>\n",
       "      <th>9</th>\n",
       "      <td>rad</td>\n",
       "      <td>7.484496</td>\n",
       "    </tr>\n",
       "    <tr>\n",
       "      <th>10</th>\n",
       "      <td>tax</td>\n",
       "      <td>9.008554</td>\n",
       "    </tr>\n",
       "    <tr>\n",
       "      <th>11</th>\n",
       "      <td>ptratio</td>\n",
       "      <td>1.799084</td>\n",
       "    </tr>\n",
       "    <tr>\n",
       "      <th>12</th>\n",
       "      <td>b</td>\n",
       "      <td>1.348521</td>\n",
       "    </tr>\n",
       "    <tr>\n",
       "      <th>13</th>\n",
       "      <td>lstat</td>\n",
       "      <td>2.941491</td>\n",
       "    </tr>\n",
       "  </tbody>\n",
       "</table>\n",
       "</div>"
      ],
      "text/plain": [
       "    feature       VIF\n",
       "0     const  1.000000\n",
       "1      crim  1.792192\n",
       "2        zn  2.298758\n",
       "3     indus  3.991596\n",
       "4      chas  1.073995\n",
       "5       nox  4.393720\n",
       "6        rm  1.933744\n",
       "7       age  3.100826\n",
       "8       dis  3.955945\n",
       "9       rad  7.484496\n",
       "10      tax  9.008554\n",
       "11  ptratio  1.799084\n",
       "12        b  1.348521\n",
       "13    lstat  2.941491"
      ]
     },
     "execution_count": 79,
     "metadata": {},
     "output_type": "execute_result"
    }
   ],
   "source": [
    "def VIF_counter(X):\n",
    "    vif_table = pd.DataFrame()\n",
    "    vif_table[\"feature\"] = X.columns\n",
    "    vif_table[\"VIF\"] = [variance_inflation_factor(X.values, i)\n",
    "                       for i in range(len(X.columns))]\n",
    "    \n",
    "    return vif_table\n",
    "\n",
    "VIF_counter(X)"
   ]
  },
  {
   "cell_type": "markdown",
   "id": "deee99d1",
   "metadata": {},
   "source": [
    "We can see that <span style=\"color:red\">tax</span> variable has very high VIF, what means that the  <span style=\"color:red\">tax</span> variable is highly collinear with other variables in the model. Let's remove it."
   ]
  },
  {
   "cell_type": "code",
   "execution_count": 80,
   "id": "0d38915b",
   "metadata": {
    "scrolled": false
   },
   "outputs": [
    {
     "name": "stdout",
     "output_type": "stream",
     "text": [
      "                            OLS Regression Results                            \n",
      "==============================================================================\n",
      "Dep. Variable:                   medv   R-squared:                       0.735\n",
      "Model:                            OLS   Adj. R-squared:                  0.729\n",
      "Method:                 Least Squares   F-statistic:                     113.9\n",
      "Date:                Thu, 22 Dec 2022   Prob (F-statistic):          1.21e-133\n",
      "Time:                        00:00:10   Log-Likelihood:                -1504.3\n",
      "No. Observations:                 506   AIC:                             3035.\n",
      "Df Residuals:                     493   BIC:                             3089.\n",
      "Df Model:                          12                                         \n",
      "Covariance Type:            nonrobust                                         \n",
      "==============================================================================\n",
      "                 coef    std err          t      P>|t|      [0.025      0.975]\n",
      "------------------------------------------------------------------------------\n",
      "const         22.5328      0.213    105.772      0.000      22.114      22.951\n",
      "crim          -0.9181      0.285     -3.216      0.001      -1.479      -0.357\n",
      "zn             0.8483      0.315      2.692      0.007       0.229       1.467\n",
      "indus         -0.4650      0.383     -1.214      0.225      -1.218       0.288\n",
      "chas           0.7694      0.219      3.507      0.000       0.338       1.200\n",
      "nox           -2.1671      0.446     -4.862      0.000      -3.043      -1.291\n",
      "rm             2.7484      0.296      9.294      0.000       2.167       3.329\n",
      "age           -0.0170      0.375     -0.045      0.964      -0.754       0.720\n",
      "dis           -3.1339      0.424     -7.390      0.000      -3.967      -2.301\n",
      "rad            1.1718      0.359      3.262      0.001       0.466       1.878\n",
      "ptratio       -2.1327      0.285     -7.478      0.000      -2.693      -1.572\n",
      "b              0.8715      0.248      3.521      0.000       0.385       1.358\n",
      "lstat         -3.7291      0.366    -10.198      0.000      -4.448      -3.011\n",
      "==============================================================================\n",
      "Omnibus:                      168.699   Durbin-Watson:                   1.089\n",
      "Prob(Omnibus):                  0.000   Jarque-Bera (JB):              702.173\n",
      "Skew:                           1.452   Prob(JB):                    3.35e-153\n",
      "Kurtosis:                       7.987   Cond. No.                         5.87\n",
      "==============================================================================\n",
      "\n",
      "Notes:\n",
      "[1] Standard Errors assume that the covariance matrix of the errors is correctly specified.\n"
     ]
    }
   ],
   "source": [
    "model_without_tax = sm.OLS(target, X.drop(columns=[\"tax\"]))\n",
    "results_without_tax = model_without_tax.fit()\n",
    "\n",
    "print(results_without_tax.summary())"
   ]
  },
  {
   "cell_type": "markdown",
   "id": "a45101ff",
   "metadata": {},
   "source": [
    "R-squared has slightly decreased, but it still significantly different from zero. Let's recalculate VIF. "
   ]
  },
  {
   "cell_type": "code",
   "execution_count": 81,
   "id": "c28ad8a1",
   "metadata": {
    "scrolled": false
   },
   "outputs": [
    {
     "data": {
      "text/html": [
       "<div>\n",
       "<style scoped>\n",
       "    .dataframe tbody tr th:only-of-type {\n",
       "        vertical-align: middle;\n",
       "    }\n",
       "\n",
       "    .dataframe tbody tr th {\n",
       "        vertical-align: top;\n",
       "    }\n",
       "\n",
       "    .dataframe thead th {\n",
       "        text-align: right;\n",
       "    }\n",
       "</style>\n",
       "<table border=\"1\" class=\"dataframe\">\n",
       "  <thead>\n",
       "    <tr style=\"text-align: right;\">\n",
       "      <th></th>\n",
       "      <th>feature</th>\n",
       "      <th>VIF</th>\n",
       "    </tr>\n",
       "  </thead>\n",
       "  <tbody>\n",
       "    <tr>\n",
       "      <th>0</th>\n",
       "      <td>const</td>\n",
       "      <td>1.000000</td>\n",
       "    </tr>\n",
       "    <tr>\n",
       "      <th>1</th>\n",
       "      <td>crim</td>\n",
       "      <td>1.791940</td>\n",
       "    </tr>\n",
       "    <tr>\n",
       "      <th>2</th>\n",
       "      <td>zn</td>\n",
       "      <td>2.184240</td>\n",
       "    </tr>\n",
       "    <tr>\n",
       "      <th>3</th>\n",
       "      <td>indus</td>\n",
       "      <td>3.226015</td>\n",
       "    </tr>\n",
       "    <tr>\n",
       "      <th>4</th>\n",
       "      <td>chas</td>\n",
       "      <td>1.058220</td>\n",
       "    </tr>\n",
       "    <tr>\n",
       "      <th>5</th>\n",
       "      <td>nox</td>\n",
       "      <td>4.369271</td>\n",
       "    </tr>\n",
       "    <tr>\n",
       "      <th>6</th>\n",
       "      <td>rm</td>\n",
       "      <td>1.923075</td>\n",
       "    </tr>\n",
       "    <tr>\n",
       "      <th>7</th>\n",
       "      <td>age</td>\n",
       "      <td>3.098044</td>\n",
       "    </tr>\n",
       "    <tr>\n",
       "      <th>8</th>\n",
       "      <td>dis</td>\n",
       "      <td>3.954446</td>\n",
       "    </tr>\n",
       "    <tr>\n",
       "      <th>9</th>\n",
       "      <td>rad</td>\n",
       "      <td>2.837494</td>\n",
       "    </tr>\n",
       "    <tr>\n",
       "      <th>10</th>\n",
       "      <td>ptratio</td>\n",
       "      <td>1.788839</td>\n",
       "    </tr>\n",
       "    <tr>\n",
       "      <th>11</th>\n",
       "      <td>b</td>\n",
       "      <td>1.347564</td>\n",
       "    </tr>\n",
       "    <tr>\n",
       "      <th>12</th>\n",
       "      <td>lstat</td>\n",
       "      <td>2.940800</td>\n",
       "    </tr>\n",
       "  </tbody>\n",
       "</table>\n",
       "</div>"
      ],
      "text/plain": [
       "    feature       VIF\n",
       "0     const  1.000000\n",
       "1      crim  1.791940\n",
       "2        zn  2.184240\n",
       "3     indus  3.226015\n",
       "4      chas  1.058220\n",
       "5       nox  4.369271\n",
       "6        rm  1.923075\n",
       "7       age  3.098044\n",
       "8       dis  3.954446\n",
       "9       rad  2.837494\n",
       "10  ptratio  1.788839\n",
       "11        b  1.347564\n",
       "12    lstat  2.940800"
      ]
     },
     "execution_count": 81,
     "metadata": {},
     "output_type": "execute_result"
    }
   ],
   "source": [
    "VIF_counter(X.drop(columns=\"tax\"))"
   ]
  },
  {
   "cell_type": "markdown",
   "id": "39e525ba",
   "metadata": {},
   "source": [
    "All other variables have reasonable value of VIF, so we don't need ro exclude them from further investigation."
   ]
  },
  {
   "cell_type": "markdown",
   "id": "14963e5b",
   "metadata": {},
   "source": [
    "### Influential observations"
   ]
  },
  {
   "cell_type": "code",
   "execution_count": 82,
   "id": "3a96fd8e",
   "metadata": {
    "scrolled": true
   },
   "outputs": [
    {
     "data": {
      "text/plain": [
       "(array([2.22595038e-03, 3.82806569e-04, 7.34179288e-04, 1.32085092e-03,\n",
       "        3.91354583e-03, 6.78454643e-04, 3.37197772e-08, 6.28486363e-03,\n",
       "        5.12429377e-03, 7.29632664e-07, 1.96849714e-03, 5.53206706e-04,\n",
       "        4.25590343e-05, 3.82828344e-05, 5.24467702e-05, 2.06980255e-05,\n",
       "        5.24348865e-04, 1.66094130e-05, 1.39361652e-03, 8.28337105e-07,\n",
       "        8.72822859e-05, 1.80997229e-04, 1.96645482e-05, 3.78728129e-05,\n",
       "        2.31308909e-09, 2.18422654e-05, 7.95359259e-05, 1.46644419e-06,\n",
       "        7.40939068e-05, 7.86351447e-07, 1.18645454e-04, 7.55186635e-04,\n",
       "        2.46944749e-03, 6.47344009e-05, 1.43051797e-06, 7.02240124e-04,\n",
       "        1.37279869e-04, 1.33851428e-04, 2.11795553e-04, 6.54246879e-09,\n",
       "        1.64187398e-04, 1.03755189e-04, 2.13005933e-05, 2.02355120e-05,\n",
       "        5.51473559e-05, 2.22674038e-04, 1.00882417e-07, 6.26967190e-05,\n",
       "        6.25353356e-03, 3.86132774e-04, 3.79522776e-05, 3.85293473e-04,\n",
       "        1.80764926e-04, 2.51372537e-07, 3.82270325e-04, 3.15429097e-03,\n",
       "        3.52159803e-05, 5.16971536e-05, 2.97144137e-04, 1.23843806e-05,\n",
       "        1.74725800e-04, 2.33580162e-04, 5.06247035e-05, 6.60891092e-04,\n",
       "        1.35387419e-02, 4.53333514e-03, 4.13533247e-03, 1.69103958e-06,\n",
       "        1.74646123e-05, 1.03586805e-05, 8.43616333e-05, 1.30403440e-07,\n",
       "        2.42689264e-04, 3.15844427e-05, 4.90872902e-04, 4.45134422e-04,\n",
       "        5.85004116e-04, 4.47242580e-04, 2.42536468e-05, 3.96354668e-04,\n",
       "        2.80887821e-06, 2.96881209e-04, 3.12825231e-05, 8.92397796e-05,\n",
       "        1.75992764e-05, 3.42689202e-05, 6.30309784e-06, 4.42096338e-04,\n",
       "        3.02738113e-03, 2.75584920e-04, 9.59158180e-04, 1.43965552e-03,\n",
       "        1.25206032e-03, 6.54866011e-04, 1.65066791e-03, 3.12150337e-05,\n",
       "        7.02391744e-04, 4.01280098e-04, 5.32409063e-03, 2.85141051e-06,\n",
       "        2.01737819e-04, 4.73679228e-07, 5.88930161e-04, 1.32265280e-04,\n",
       "        2.14510594e-04, 4.07983384e-06, 1.57890968e-04, 6.24452397e-05,\n",
       "        7.29142135e-04, 6.14621689e-05, 3.63451302e-06, 4.95438758e-04,\n",
       "        3.21051764e-04, 3.27505238e-04, 1.63868991e-03, 3.06123565e-04,\n",
       "        1.94846504e-04, 8.23355682e-04, 2.85476843e-05, 1.75538276e-04,\n",
       "        8.54671454e-04, 2.83941081e-05, 7.59876837e-04, 1.81092132e-03,\n",
       "        9.68697315e-05, 2.80416382e-04, 2.07481374e-03, 4.61863487e-05,\n",
       "        1.36512489e-04, 3.85324773e-09, 1.16621058e-04, 7.96510507e-07,\n",
       "        6.54859070e-04, 4.40617121e-04, 3.91076165e-04, 2.48075365e-05,\n",
       "        1.18283962e-04, 5.82302189e-04, 5.05612637e-05, 9.41504269e-05,\n",
       "        1.56488039e-06, 1.68816232e-02, 5.01790972e-04, 2.27791913e-03,\n",
       "        2.11960965e-03, 7.66714022e-04, 9.87615305e-09, 7.93855936e-03,\n",
       "        1.27821424e-02, 8.97250385e-05, 9.89344554e-05, 4.06686359e-04,\n",
       "        7.22000308e-03, 8.54379004e-04, 7.19392886e-03, 7.43283569e-03,\n",
       "        1.47323195e-05, 7.03773436e-03, 2.92962840e-03, 8.78584510e-04,\n",
       "        7.20264235e-03, 2.19843103e-02, 1.64699464e-02, 1.33668682e-02,\n",
       "        4.38756039e-04, 2.26970429e-05, 2.25801040e-02, 4.35839141e-05,\n",
       "        6.72780025e-04, 1.72284013e-03, 2.48828124e-03, 2.66105036e-03,\n",
       "        2.56509764e-08, 1.71460058e-03, 1.01367705e-03, 1.62808463e-04,\n",
       "        3.23822804e-04, 1.06266120e-03, 1.34242936e-04, 1.16859431e-03,\n",
       "        2.41447701e-03, 4.74270558e-03, 1.52178443e-03, 3.59873499e-04,\n",
       "        1.54325366e-03, 1.35915675e-03, 1.56976189e-02, 4.68514213e-04,\n",
       "        8.42943048e-04, 3.90026451e-05, 9.90465897e-04, 3.66414094e-05,\n",
       "        1.90163914e-04, 9.01502536e-05, 3.59181029e-04, 9.21190098e-03,\n",
       "        1.35350060e-03, 1.11767382e-03, 9.87327055e-05, 1.36017184e-03,\n",
       "        1.00329707e-04, 3.84973355e-03, 1.75976547e-03, 8.95438156e-03,\n",
       "        1.00733378e-02, 8.11227250e-06, 2.82508532e-05, 8.00380696e-04,\n",
       "        1.40784207e-04, 1.99886763e-03, 3.86320117e-05, 1.10503035e-03,\n",
       "        5.36966096e-06, 4.58068668e-04, 4.79649649e-02, 2.48701974e-05,\n",
       "        9.74580187e-04, 6.06144756e-05, 1.07248717e-03, 4.72434794e-03,\n",
       "        5.68983194e-03, 7.56749848e-04, 2.71329122e-03, 1.81322269e-05,\n",
       "        3.72612051e-03, 1.34870879e-02, 4.74971500e-06, 9.34918718e-06,\n",
       "        1.48462951e-02, 2.37285744e-05, 1.51713822e-06, 7.23009257e-05,\n",
       "        1.31294242e-03, 1.03482354e-02, 8.92218313e-04, 2.17358831e-05,\n",
       "        3.08900690e-03, 3.49306848e-05, 7.25301270e-04, 5.69726036e-04,\n",
       "        9.81558195e-04, 5.25024009e-04, 1.15045301e-04, 6.41042389e-04,\n",
       "        2.33861158e-04, 2.57661586e-03, 1.01131841e-03, 6.95138124e-05,\n",
       "        5.61395115e-04, 2.84996647e-04, 3.47444245e-06, 1.70201922e-06,\n",
       "        2.47209539e-03, 3.48008706e-02, 6.22953988e-04, 1.44993473e-04,\n",
       "        5.75171167e-03, 7.94249060e-03, 3.62785996e-06, 2.46807664e-03,\n",
       "        5.17415721e-05, 4.08819756e-03, 9.25727259e-03, 1.08996546e-03,\n",
       "        9.97129502e-05, 3.85832550e-03, 5.50920355e-06, 1.08719266e-02,\n",
       "        1.62803913e-03, 2.84324808e-03, 3.77142175e-06, 8.17604205e-05,\n",
       "        2.36491664e-04, 5.15538326e-07, 1.76328860e-03, 5.14952754e-05,\n",
       "        6.05597281e-04, 2.95187766e-04, 1.56257052e-05, 1.39490432e-05,\n",
       "        3.36784683e-03, 1.35091263e-04, 5.13165163e-03, 7.40671912e-03,\n",
       "        1.72631150e-05, 1.61246117e-03, 1.24161176e-05, 4.66948664e-04,\n",
       "        9.05321300e-04, 1.13037025e-04, 2.06543838e-03, 2.09628463e-03,\n",
       "        1.15027982e-03, 2.37914119e-04, 4.45695506e-04, 3.60010105e-05,\n",
       "        4.38349948e-06, 1.98064481e-04, 3.71258540e-03, 8.81972620e-04,\n",
       "        3.35279309e-03, 1.43412262e-03, 2.65496806e-04, 5.82897028e-06,\n",
       "        8.42301545e-04, 7.92228627e-05, 7.77316159e-05, 7.07626274e-04,\n",
       "        1.24101298e-03, 2.25946106e-04, 4.66600029e-04, 8.89607643e-04,\n",
       "        3.99225051e-04, 3.95484813e-04, 6.31892563e-05, 4.43327229e-04,\n",
       "        3.24661007e-06, 4.95529127e-05, 1.77200195e-05, 7.09991677e-07,\n",
       "        1.62822284e-05, 5.39451493e-05, 1.25293987e-04, 1.14407427e-05,\n",
       "        5.28433635e-07, 1.73511859e-06, 8.66112003e-06, 3.17785240e-04,\n",
       "        9.66473805e-04, 9.67982489e-04, 7.89328448e-04, 4.41391762e-04,\n",
       "        6.89915467e-04, 6.43953512e-05, 1.36341173e-07, 1.16469193e-04,\n",
       "        3.11556082e-06, 1.14464930e-06, 2.18737277e-05, 7.30691862e-05,\n",
       "        1.19098486e-04, 1.11938099e-04, 4.85970106e-03, 8.14293739e-04,\n",
       "        1.77471906e-04, 3.29900977e-06, 1.46400502e-04, 5.60122134e-04,\n",
       "        5.57467847e-04, 8.94227437e-04, 1.33390498e-04, 6.11608470e-04,\n",
       "        1.44112752e-05, 1.00061899e-02, 3.07458493e-03, 3.26082364e-03,\n",
       "        6.84237961e-04, 2.86361321e-04, 1.14235589e-05, 1.00917201e-03,\n",
       "        5.94430312e-04, 7.69993836e-05, 9.36857543e-04, 2.19534278e-03,\n",
       "        7.70962387e-02, 7.40375892e-02, 4.17466051e-03, 4.97269990e-02,\n",
       "        1.76297065e-01, 5.48018418e-02, 4.32204451e-02, 4.47971107e-02,\n",
       "        9.58297701e-02, 7.80062818e-03, 3.03112120e-02, 9.36070247e-03,\n",
       "        1.02173473e-03, 3.41008621e-03, 6.51734102e-04, 2.36434515e-03,\n",
       "        3.71584217e-02, 3.36679048e-03, 2.21397679e-04, 2.80272058e-05,\n",
       "        2.97015235e-03, 5.58797428e-05, 2.03027045e-03, 3.73049752e-04,\n",
       "        1.17535499e-03, 3.55819616e-04, 2.01083520e-04, 1.64258842e-03,\n",
       "        5.11033740e-07, 1.76965205e-03, 1.17673300e-03, 2.33730276e-03,\n",
       "        2.43519349e-03, 2.73064316e-03, 4.44980439e-04, 2.14954780e-03,\n",
       "        3.53525340e-03, 5.40799459e-03, 1.70745423e-03, 1.64025702e-03,\n",
       "        2.37374405e-04, 7.75651983e-03, 2.09810252e-03, 4.40272565e-03,\n",
       "        9.32397752e-04, 4.26030425e-03, 2.42516436e-05, 3.95076715e-06,\n",
       "        5.34667290e-02, 2.36390038e-03, 3.76417430e-02, 7.83194837e-04,\n",
       "        5.17687398e-03, 1.09480747e-03, 6.90514272e-03, 5.17704290e-03,\n",
       "        3.12427626e-04, 5.77494804e-04, 2.62116724e-04, 7.88357123e-06,\n",
       "        1.40407405e-03, 2.73863030e-04, 5.58315285e-03, 2.24283832e-03,\n",
       "        8.75097834e-04, 1.24295841e-03, 1.39003097e-03, 2.51257698e-03,\n",
       "        3.15094142e-03, 5.98846702e-04, 1.34617948e-03, 7.22097525e-07,\n",
       "        2.61831992e-03, 3.23003933e-09, 2.08192040e-03, 1.81702291e-06,\n",
       "        3.16041959e-04, 1.62525169e-06, 4.55045691e-06, 3.83500378e-04,\n",
       "        1.51539163e-05, 9.74029283e-07, 3.33227591e-04, 1.54266182e-03,\n",
       "        5.33424123e-04, 6.99487021e-04, 1.35539013e-03, 9.53222590e-04,\n",
       "        3.04087751e-04, 2.09555792e-03, 1.39362287e-05, 3.11760339e-04,\n",
       "        2.86486855e-06, 7.82783331e-05, 2.06874984e-04, 1.22881402e-04,\n",
       "        3.68780650e-04, 3.43524126e-04, 3.79619583e-06, 3.36039062e-04,\n",
       "        5.58063012e-05, 2.93443900e-04, 2.98294719e-03, 2.72229625e-04,\n",
       "        2.03793272e-04, 1.29519346e-04, 7.80969232e-06, 1.09096075e-03,\n",
       "        2.30232247e-05, 1.07178629e-03, 4.33237718e-04, 5.99747491e-04,\n",
       "        9.28625064e-04, 1.20854530e-05, 9.69888408e-04, 1.41043953e-05,\n",
       "        2.95610599e-05, 1.11707892e-03, 1.37608016e-03, 3.64473152e-05,\n",
       "        9.39478824e-05, 9.78671228e-05, 2.32680077e-05, 4.64587944e-05,\n",
       "        5.36164630e-06, 2.40931708e-03, 2.75536993e-04, 1.39220546e-03,\n",
       "        1.23101849e-04, 1.88088443e-05, 6.95750138e-04, 3.31757392e-03,\n",
       "        1.21456010e-03, 4.50388388e-05, 1.35226641e-05, 7.52164477e-05,\n",
       "        4.42206823e-04, 5.38339133e-05, 1.44038912e-04, 1.10039224e-03,\n",
       "        1.20868185e-03, 7.19691140e-03]),\n",
       " array([1.        , 1.        , 1.        , 1.        , 1.        ,\n",
       "        1.        , 1.        , 1.        , 1.        , 1.        ,\n",
       "        1.        , 1.        , 1.        , 1.        , 1.        ,\n",
       "        1.        , 1.        , 1.        , 1.        , 1.        ,\n",
       "        1.        , 1.        , 1.        , 1.        , 1.        ,\n",
       "        1.        , 1.        , 1.        , 1.        , 1.        ,\n",
       "        1.        , 1.        , 1.        , 1.        , 1.        ,\n",
       "        1.        , 1.        , 1.        , 1.        , 1.        ,\n",
       "        1.        , 1.        , 1.        , 1.        , 1.        ,\n",
       "        1.        , 1.        , 1.        , 1.        , 1.        ,\n",
       "        1.        , 1.        , 1.        , 1.        , 1.        ,\n",
       "        1.        , 1.        , 1.        , 1.        , 1.        ,\n",
       "        1.        , 1.        , 1.        , 1.        , 1.        ,\n",
       "        1.        , 1.        , 1.        , 1.        , 1.        ,\n",
       "        1.        , 1.        , 1.        , 1.        , 1.        ,\n",
       "        1.        , 1.        , 1.        , 1.        , 1.        ,\n",
       "        1.        , 1.        , 1.        , 1.        , 1.        ,\n",
       "        1.        , 1.        , 1.        , 1.        , 1.        ,\n",
       "        1.        , 1.        , 1.        , 1.        , 1.        ,\n",
       "        1.        , 1.        , 1.        , 1.        , 1.        ,\n",
       "        1.        , 1.        , 1.        , 1.        , 1.        ,\n",
       "        1.        , 1.        , 1.        , 1.        , 1.        ,\n",
       "        1.        , 1.        , 1.        , 1.        , 1.        ,\n",
       "        1.        , 1.        , 1.        , 1.        , 1.        ,\n",
       "        1.        , 1.        , 1.        , 1.        , 1.        ,\n",
       "        1.        , 1.        , 1.        , 1.        , 1.        ,\n",
       "        1.        , 1.        , 1.        , 1.        , 1.        ,\n",
       "        1.        , 1.        , 1.        , 1.        , 1.        ,\n",
       "        1.        , 1.        , 1.        , 1.        , 1.        ,\n",
       "        1.        , 1.        , 1.        , 1.        , 1.        ,\n",
       "        1.        , 1.        , 1.        , 1.        , 1.        ,\n",
       "        1.        , 1.        , 1.        , 1.        , 1.        ,\n",
       "        1.        , 1.        , 1.        , 1.        , 1.        ,\n",
       "        1.        , 1.        , 1.        , 1.        , 1.        ,\n",
       "        1.        , 1.        , 1.        , 1.        , 1.        ,\n",
       "        1.        , 1.        , 1.        , 1.        , 1.        ,\n",
       "        1.        , 1.        , 1.        , 1.        , 1.        ,\n",
       "        1.        , 1.        , 1.        , 1.        , 1.        ,\n",
       "        1.        , 1.        , 1.        , 1.        , 1.        ,\n",
       "        1.        , 1.        , 1.        , 1.        , 1.        ,\n",
       "        1.        , 1.        , 1.        , 1.        , 1.        ,\n",
       "        1.        , 1.        , 1.        , 1.        , 1.        ,\n",
       "        1.        , 1.        , 1.        , 1.        , 0.99999978,\n",
       "        1.        , 1.        , 1.        , 1.        , 1.        ,\n",
       "        1.        , 1.        , 1.        , 1.        , 1.        ,\n",
       "        1.        , 1.        , 1.        , 1.        , 1.        ,\n",
       "        1.        , 1.        , 1.        , 1.        , 1.        ,\n",
       "        1.        , 1.        , 1.        , 1.        , 1.        ,\n",
       "        1.        , 1.        , 1.        , 1.        , 1.        ,\n",
       "        1.        , 1.        , 1.        , 1.        , 1.        ,\n",
       "        1.        , 1.        , 1.        , 0.99999997, 1.        ,\n",
       "        1.        , 1.        , 1.        , 1.        , 1.        ,\n",
       "        1.        , 1.        , 1.        , 1.        , 1.        ,\n",
       "        1.        , 1.        , 1.        , 1.        , 1.        ,\n",
       "        1.        , 1.        , 1.        , 1.        , 1.        ,\n",
       "        1.        , 1.        , 1.        , 1.        , 1.        ,\n",
       "        1.        , 1.        , 1.        , 1.        , 1.        ,\n",
       "        1.        , 1.        , 1.        , 1.        , 1.        ,\n",
       "        1.        , 1.        , 1.        , 1.        , 1.        ,\n",
       "        1.        , 1.        , 1.        , 1.        , 1.        ,\n",
       "        1.        , 1.        , 1.        , 1.        , 1.        ,\n",
       "        1.        , 1.        , 1.        , 1.        , 1.        ,\n",
       "        1.        , 1.        , 1.        , 1.        , 1.        ,\n",
       "        1.        , 1.        , 1.        , 1.        , 1.        ,\n",
       "        1.        , 1.        , 1.        , 1.        , 1.        ,\n",
       "        1.        , 1.        , 1.        , 1.        , 1.        ,\n",
       "        1.        , 1.        , 1.        , 1.        , 1.        ,\n",
       "        1.        , 1.        , 1.        , 1.        , 1.        ,\n",
       "        1.        , 1.        , 1.        , 1.        , 1.        ,\n",
       "        1.        , 1.        , 1.        , 1.        , 1.        ,\n",
       "        1.        , 1.        , 1.        , 1.        , 1.        ,\n",
       "        1.        , 1.        , 1.        , 1.        , 1.        ,\n",
       "        1.        , 1.        , 1.        , 1.        , 0.99999587,\n",
       "        0.99999677, 1.        , 0.99999972, 0.99949165, 0.99999949,\n",
       "        0.99999988, 0.99999985, 0.99998474, 1.        , 0.99999999,\n",
       "        1.        , 1.        , 1.        , 1.        , 1.        ,\n",
       "        0.99999995, 1.        , 1.        , 1.        , 1.        ,\n",
       "        1.        , 1.        , 1.        , 1.        , 1.        ,\n",
       "        1.        , 1.        , 1.        , 1.        , 1.        ,\n",
       "        1.        , 1.        , 1.        , 1.        , 1.        ,\n",
       "        1.        , 1.        , 1.        , 1.        , 1.        ,\n",
       "        1.        , 1.        , 1.        , 1.        , 1.        ,\n",
       "        1.        , 1.        , 0.99999956, 1.        , 0.99999995,\n",
       "        1.        , 1.        , 1.        , 1.        , 1.        ,\n",
       "        1.        , 1.        , 1.        , 1.        , 1.        ,\n",
       "        1.        , 1.        , 1.        , 1.        , 1.        ,\n",
       "        1.        , 1.        , 1.        , 1.        , 1.        ,\n",
       "        1.        , 1.        , 1.        , 1.        , 1.        ,\n",
       "        1.        , 1.        , 1.        , 1.        , 1.        ,\n",
       "        1.        , 1.        , 1.        , 1.        , 1.        ,\n",
       "        1.        , 1.        , 1.        , 1.        , 1.        ,\n",
       "        1.        , 1.        , 1.        , 1.        , 1.        ,\n",
       "        1.        , 1.        , 1.        , 1.        , 1.        ,\n",
       "        1.        , 1.        , 1.        , 1.        , 1.        ,\n",
       "        1.        , 1.        , 1.        , 1.        , 1.        ,\n",
       "        1.        , 1.        , 1.        , 1.        , 1.        ,\n",
       "        1.        , 1.        , 1.        , 1.        , 1.        ,\n",
       "        1.        , 1.        , 1.        , 1.        , 1.        ,\n",
       "        1.        , 1.        , 1.        , 1.        , 1.        ,\n",
       "        1.        , 1.        , 1.        , 1.        , 1.        ,\n",
       "        1.        , 1.        , 1.        , 1.        , 1.        ,\n",
       "        1.        ]))"
      ]
     },
     "execution_count": 82,
     "metadata": {},
     "output_type": "execute_result"
    }
   ],
   "source": [
    "influence = results_without_tax.get_influence()\n",
    "dims_cook = influence.cooks_distance\n",
    "\n",
    "dims_cook"
   ]
  },
  {
   "cell_type": "code",
   "execution_count": 83,
   "id": "0ab56171",
   "metadata": {
    "scrolled": true
   },
   "outputs": [
    {
     "data": {
      "text/plain": [
       "0"
      ]
     },
     "execution_count": 83,
     "metadata": {},
     "output_type": "execute_result"
    }
   ],
   "source": [
    "(dims_cook[1]<0.05).sum()"
   ]
  },
  {
   "cell_type": "markdown",
   "id": "1ed7689c",
   "metadata": {},
   "source": [
    "There is no influential obervations which could decrease the quality of our model, it seems. I would like to see all distances graph. "
   ]
  },
  {
   "cell_type": "code",
   "execution_count": 84,
   "id": "2cdd295c",
   "metadata": {},
   "outputs": [
    {
     "data": {
      "image/png": "[encoded data removed]",
      "text/plain": [
       "<Figure size 1000x800 with 1 Axes>"
      ]
     },
     "metadata": {},
     "output_type": "display_data"
    }
   ],
   "source": [
    "plt.scatter(scaled_features.index, dims_cook[0], s=10, alpha=0.5)\n",
    "plt.xlabel(\"Index\")\n",
    "plt.ylabel('Cooks Distance')\n",
    "plt.autoscale()"
   ]
  },
  {
   "cell_type": "markdown",
   "id": "e203f9ac",
   "metadata": {},
   "source": [
    "### Independence of observations"
   ]
  },
  {
   "cell_type": "markdown",
   "id": "492653ed",
   "metadata": {},
   "source": [
    "We don't have enough information to conclude, is there any dependence between our observations. We can make a corr. test, but it won't show us dependence. "
   ]
  },
  {
   "cell_type": "markdown",
   "id": "3e329bb8",
   "metadata": {},
   "source": [
    "### Errors normal distribution"
   ]
  },
  {
   "cell_type": "code",
   "execution_count": 85,
   "id": "32abc3a7",
   "metadata": {},
   "outputs": [],
   "source": [
    "predicts = results_without_tax.get_prediction(X.drop(columns=[\"tax\"])).predicted_mean\n",
    "errors = target - predicts"
   ]
  },
  {
   "cell_type": "code",
   "execution_count": 86,
   "id": "7413d341",
   "metadata": {
    "scrolled": false
   },
   "outputs": [
    {
     "data": {
      "image/png": "[encoded data removed]",
      "text/plain": [
       "<Figure size 1000x800 with 1 Axes>"
      ]
     },
     "metadata": {},
     "output_type": "display_data"
    }
   ],
   "source": [
    "fig = sm.qqplot(errors, line = 'r', fit = True, alpha = 0.6)\n",
    "plt.show()"
   ]
  },
  {
   "cell_type": "code",
   "execution_count": 87,
   "id": "b3921d9c",
   "metadata": {
    "scrolled": false
   },
   "outputs": [
    {
     "data": {
      "text/plain": [
       "<AxesSubplot:xlabel='medv', ylabel='Density'>"
      ]
     },
     "execution_count": 87,
     "metadata": {},
     "output_type": "execute_result"
    },
    {
     "data": {
      "image/png": "[encoded data removed]",
      "text/plain": [
       "<Figure size 1000x800 with 1 Axes>"
      ]
     },
     "metadata": {},
     "output_type": "display_data"
    }
   ],
   "source": [
    "sns.histplot(errors, stat = \"density\", palette=\"crest\")"
   ]
  },
  {
   "cell_type": "markdown",
   "id": "10b1822e",
   "metadata": {},
   "source": [
    "We have some hyperpredicted values and underpredicted values, and the distribution doesn't seem normal, at list it is bimodal. I would like to exclude  <span style=\"color:red\">nox</span>  variable from model, because it had the biggest VIF."
   ]
  },
  {
   "cell_type": "code",
   "execution_count": 88,
   "id": "53033d1f",
   "metadata": {
    "scrolled": true
   },
   "outputs": [
    {
     "name": "stdout",
     "output_type": "stream",
     "text": [
      "                            OLS Regression Results                            \n",
      "==============================================================================\n",
      "Dep. Variable:                   medv   R-squared:                       0.722\n",
      "Model:                            OLS   Adj. R-squared:                  0.716\n",
      "Method:                 Least Squares   F-statistic:                     116.8\n",
      "Date:                Thu, 22 Dec 2022   Prob (F-statistic):          1.03e-129\n",
      "Time:                        00:00:10   Log-Likelihood:                -1516.1\n",
      "No. Observations:                 506   AIC:                             3056.\n",
      "Df Residuals:                     494   BIC:                             3107.\n",
      "Df Model:                          11                                         \n",
      "Covariance Type:            nonrobust                                         \n",
      "==============================================================================\n",
      "                 coef    std err          t      P>|t|      [0.025      0.975]\n",
      "------------------------------------------------------------------------------\n",
      "const         22.5328      0.218    103.429      0.000      22.105      22.961\n",
      "crim          -0.8339      0.291     -2.862      0.004      -1.406      -0.261\n",
      "zn             0.8784      0.322      2.726      0.007       0.245       1.512\n",
      "indus         -1.0811      0.370     -2.925      0.004      -1.807      -0.355\n",
      "chas           0.7430      0.224      3.313      0.001       0.302       1.184\n",
      "rm             2.8916      0.301      9.609      0.000       2.300       3.483\n",
      "age           -0.5065      0.370     -1.370      0.171      -1.233       0.220\n",
      "dis           -2.5540      0.416     -6.137      0.000      -3.372      -1.736\n",
      "rad            0.6003      0.347      1.729      0.084      -0.082       1.282\n",
      "ptratio       -1.6810      0.276     -6.096      0.000      -2.223      -1.139\n",
      "b              0.9643      0.252      3.821      0.000       0.468       1.460\n",
      "lstat         -3.8497      0.373    -10.318      0.000      -4.583      -3.117\n",
      "==============================================================================\n",
      "Omnibus:                      178.612   Durbin-Watson:                   1.039\n",
      "Prob(Omnibus):                  0.000   Jarque-Bera (JB):              824.634\n",
      "Skew:                           1.507   Prob(JB):                    8.57e-180\n",
      "Kurtosis:                       8.480   Cond. No.                         5.10\n",
      "==============================================================================\n",
      "\n",
      "Notes:\n",
      "[1] Standard Errors assume that the covariance matrix of the errors is correctly specified.\n"
     ]
    }
   ],
   "source": [
    "model_without_tn = sm.OLS(target, X.drop(columns=[\"tax\", \"nox\"]))\n",
    "results_without_tn = model_without_tn.fit()\n",
    "\n",
    "print(results_without_tn.summary())"
   ]
  },
  {
   "cell_type": "markdown",
   "id": "5356ec46",
   "metadata": {},
   "source": [
    "R-squared still significantly different from zero."
   ]
  },
  {
   "cell_type": "code",
   "execution_count": 89,
   "id": "92b14487",
   "metadata": {
    "scrolled": true
   },
   "outputs": [
    {
     "data": {
      "text/html": [
       "<div>\n",
       "<style scoped>\n",
       "    .dataframe tbody tr th:only-of-type {\n",
       "        vertical-align: middle;\n",
       "    }\n",
       "\n",
       "    .dataframe tbody tr th {\n",
       "        vertical-align: top;\n",
       "    }\n",
       "\n",
       "    .dataframe thead th {\n",
       "        text-align: right;\n",
       "    }\n",
       "</style>\n",
       "<table border=\"1\" class=\"dataframe\">\n",
       "  <thead>\n",
       "    <tr style=\"text-align: right;\">\n",
       "      <th></th>\n",
       "      <th>feature</th>\n",
       "      <th>VIF</th>\n",
       "    </tr>\n",
       "  </thead>\n",
       "  <tbody>\n",
       "    <tr>\n",
       "      <th>0</th>\n",
       "      <td>const</td>\n",
       "      <td>1.000000</td>\n",
       "    </tr>\n",
       "    <tr>\n",
       "      <th>1</th>\n",
       "      <td>crim</td>\n",
       "      <td>1.785343</td>\n",
       "    </tr>\n",
       "    <tr>\n",
       "      <th>2</th>\n",
       "      <td>zn</td>\n",
       "      <td>2.183394</td>\n",
       "    </tr>\n",
       "    <tr>\n",
       "      <th>3</th>\n",
       "      <td>indus</td>\n",
       "      <td>2.872809</td>\n",
       "    </tr>\n",
       "    <tr>\n",
       "      <th>4</th>\n",
       "      <td>chas</td>\n",
       "      <td>1.057571</td>\n",
       "    </tr>\n",
       "    <tr>\n",
       "      <th>5</th>\n",
       "      <td>rm</td>\n",
       "      <td>1.904013</td>\n",
       "    </tr>\n",
       "    <tr>\n",
       "      <th>6</th>\n",
       "      <td>age</td>\n",
       "      <td>2.875130</td>\n",
       "    </tr>\n",
       "    <tr>\n",
       "      <th>7</th>\n",
       "      <td>dis</td>\n",
       "      <td>3.641492</td>\n",
       "    </tr>\n",
       "    <tr>\n",
       "      <th>8</th>\n",
       "      <td>rad</td>\n",
       "      <td>2.533616</td>\n",
       "    </tr>\n",
       "    <tr>\n",
       "      <th>9</th>\n",
       "      <td>ptratio</td>\n",
       "      <td>1.598944</td>\n",
       "    </tr>\n",
       "    <tr>\n",
       "      <th>10</th>\n",
       "      <td>b</td>\n",
       "      <td>1.339554</td>\n",
       "    </tr>\n",
       "    <tr>\n",
       "      <th>11</th>\n",
       "      <td>lstat</td>\n",
       "      <td>2.927273</td>\n",
       "    </tr>\n",
       "  </tbody>\n",
       "</table>\n",
       "</div>"
      ],
      "text/plain": [
       "    feature       VIF\n",
       "0     const  1.000000\n",
       "1      crim  1.785343\n",
       "2        zn  2.183394\n",
       "3     indus  2.872809\n",
       "4      chas  1.057571\n",
       "5        rm  1.904013\n",
       "6       age  2.875130\n",
       "7       dis  3.641492\n",
       "8       rad  2.533616\n",
       "9   ptratio  1.598944\n",
       "10        b  1.339554\n",
       "11    lstat  2.927273"
      ]
     },
     "execution_count": 89,
     "metadata": {},
     "output_type": "execute_result"
    }
   ],
   "source": [
    "VIF_counter(X.drop(columns=[\"tax\", \"nox\"]))"
   ]
  },
  {
   "cell_type": "code",
   "execution_count": 90,
   "id": "17706b6e",
   "metadata": {},
   "outputs": [],
   "source": [
    "predicts_tn = results_without_tn.get_prediction(X.drop(columns=[\"tax\", \"nox\"])).predicted_mean\n",
    "errors_tn = target - predicts_tn"
   ]
  },
  {
   "cell_type": "code",
   "execution_count": 91,
   "id": "78ae6fac",
   "metadata": {},
   "outputs": [
    {
     "data": {
      "image/png": "[encoded data removed]",
      "text/plain": [
       "<Figure size 1000x800 with 1 Axes>"
      ]
     },
     "metadata": {},
     "output_type": "display_data"
    }
   ],
   "source": [
    "fig1 = sm.qqplot(errors_tn, line='r', fit=True, alpha=0.6)\n",
    "plt.show()"
   ]
  },
  {
   "cell_type": "code",
   "execution_count": 106,
   "id": "3aa83e3c",
   "metadata": {
    "scrolled": false
   },
   "outputs": [
    {
     "data": {
      "text/plain": [
       "<AxesSubplot:xlabel='medv', ylabel='Density'>"
      ]
     },
     "execution_count": 106,
     "metadata": {},
     "output_type": "execute_result"
    },
    {
     "data": {
      "image/png": "[encoded data removed]",
      "text/plain": [
       "<Figure size 1000x800 with 1 Axes>"
      ]
     },
     "metadata": {},
     "output_type": "display_data"
    }
   ],
   "source": [
    "sns.histplot(errors, color=\"green\", stat=\"density\")\n",
    "sns.histplot(errors_tn, color=\"red\", alpha=0.4, stat=\"density\")\n"
   ]
  },
  {
   "cell_type": "markdown",
   "id": "918acf71",
   "metadata": {},
   "source": [
    "After <span style=\"color:red\">nox</span> variable was removed, residuals destribution became more close to normal distribution, but there are still some superfluous obervations in errors. I would like to test model without <span style=\"color:red\">tax</span> and <span style=\"color:red\">nox</span> variables by `stats.normaltest()`."
   ]
  },
  {
   "cell_type": "code",
   "execution_count": 93,
   "id": "7ba35f27",
   "metadata": {},
   "outputs": [],
   "source": [
    "def normal_test(residuals, alpha = 0.05):\n",
    "    k, p = stats.normaltest(residuals)\n",
    "    if p < alpha:\n",
    "        print(f\"p-value = {p} < {alpha}, H0 should be rejected\")\n",
    "    else:\n",
    "        print(f\"p-value = {p} > {alpha}, H0 can't be rejected\")"
   ]
  },
  {
   "cell_type": "code",
   "execution_count": 94,
   "id": "0b3f8d98",
   "metadata": {},
   "outputs": [
    {
     "name": "stdout",
     "output_type": "stream",
     "text": [
      "p-value = 1.6405026604080352e-39 < 0.05, H0 should be rejected\n"
     ]
    }
   ],
   "source": [
    "normal_test(errors_tn)"
   ]
  },
  {
   "cell_type": "markdown",
   "id": "265e924a",
   "metadata": {},
   "source": [
    "Even residuals of model with removed  <span style=\"color:red\">tax</span> and <span style=\"color:red\">nox</span> variables are not distributed normally. That means that out model does not work well, but I don't know what to do in this situation. "
   ]
  },
  {
   "cell_type": "markdown",
   "id": "23560af0",
   "metadata": {},
   "source": [
    "### Prediction plot."
   ]
  },
  {
   "cell_type": "code",
   "execution_count": 95,
   "id": "e30cb5a9",
   "metadata": {
    "scrolled": false
   },
   "outputs": [
    {
     "name": "stdout",
     "output_type": "stream",
     "text": [
      "                            OLS Regression Results                            \n",
      "==============================================================================\n",
      "Dep. Variable:                   medv   R-squared:                       0.722\n",
      "Model:                            OLS   Adj. R-squared:                  0.716\n",
      "Method:                 Least Squares   F-statistic:                     116.8\n",
      "Date:                Thu, 22 Dec 2022   Prob (F-statistic):          1.03e-129\n",
      "Time:                        00:00:11   Log-Likelihood:                -1516.1\n",
      "No. Observations:                 506   AIC:                             3056.\n",
      "Df Residuals:                     494   BIC:                             3107.\n",
      "Df Model:                          11                                         \n",
      "Covariance Type:            nonrobust                                         \n",
      "==============================================================================\n",
      "                 coef    std err          t      P>|t|      [0.025      0.975]\n",
      "------------------------------------------------------------------------------\n",
      "const         22.5328      0.218    103.429      0.000      22.105      22.961\n",
      "crim          -0.8339      0.291     -2.862      0.004      -1.406      -0.261\n",
      "zn             0.8784      0.322      2.726      0.007       0.245       1.512\n",
      "indus         -1.0811      0.370     -2.925      0.004      -1.807      -0.355\n",
      "chas           0.7430      0.224      3.313      0.001       0.302       1.184\n",
      "rm             2.8916      0.301      9.609      0.000       2.300       3.483\n",
      "age           -0.5065      0.370     -1.370      0.171      -1.233       0.220\n",
      "dis           -2.5540      0.416     -6.137      0.000      -3.372      -1.736\n",
      "rad            0.6003      0.347      1.729      0.084      -0.082       1.282\n",
      "ptratio       -1.6810      0.276     -6.096      0.000      -2.223      -1.139\n",
      "b              0.9643      0.252      3.821      0.000       0.468       1.460\n",
      "lstat         -3.8497      0.373    -10.318      0.000      -4.583      -3.117\n",
      "==============================================================================\n",
      "Omnibus:                      178.612   Durbin-Watson:                   1.039\n",
      "Prob(Omnibus):                  0.000   Jarque-Bera (JB):              824.634\n",
      "Skew:                           1.507   Prob(JB):                    8.57e-180\n",
      "Kurtosis:                       8.480   Cond. No.                         5.10\n",
      "==============================================================================\n",
      "\n",
      "Notes:\n",
      "[1] Standard Errors assume that the covariance matrix of the errors is correctly specified.\n"
     ]
    }
   ],
   "source": [
    "print(results_without_tn.summary())"
   ]
  },
  {
   "cell_type": "code",
   "execution_count": 96,
   "id": "daf52a4e",
   "metadata": {
    "scrolled": true
   },
   "outputs": [
    {
     "name": "stdout",
     "output_type": "stream",
     "text": [
      "const      22.532806\n",
      "crim       -0.833875\n",
      "zn          0.878421\n",
      "indus      -1.081123\n",
      "chas        0.743002\n",
      "rm          2.891554\n",
      "age        -0.506521\n",
      "dis        -2.553964\n",
      "rad         0.600287\n",
      "ptratio    -1.680975\n",
      "b           0.964326\n",
      "lstat      -3.849708\n",
      "dtype: float64\n"
     ]
    }
   ],
   "source": [
    "print(results_without_tn.params)"
   ]
  },
  {
   "cell_type": "markdown",
   "id": "b533c522",
   "metadata": {},
   "source": [
    "The biggest coefficient, except const, has variable  <span style=\"color:red\">lstat</span>, so it has the most powerful predicting effect on our model, so the graph of prediction should be based on it."
   ]
  },
  {
   "cell_type": "code",
   "execution_count": 99,
   "id": "4daf78d9",
   "metadata": {
    "scrolled": false
   },
   "outputs": [
    {
     "data": {
      "image/png": "[encoded data removed]",
      "text/plain": [
       "<Figure size 1000x800 with 1 Axes>"
      ]
     },
     "metadata": {},
     "output_type": "display_data"
    }
   ],
   "source": [
    "sc_kws = {'color': 'brown', 's': 6}\n",
    "sns.regplot(x=scaled_features['lstat'], y=scaled_target, scatter_kws=sc_kws, line_kws={'color': 'grey'},\n",
    "           order=1)\n",
    "plt.xlabel(\"lstat scaled\")\n",
    "plt.ylabel(\"medv scaled\")\n",
    "plt.autoscale()"
   ]
  },
  {
   "cell_type": "markdown",
   "id": "a80a1771",
   "metadata": {},
   "source": [
    "But as it could be seen, correlation is not so good, beacuse there are a lot of values above the regline when lstat is less than -1, but then between -1 and 1 values of lstat the most part of values are below of the regline."
   ]
  },
  {
   "cell_type": "markdown",
   "id": "53bba7ad",
   "metadata": {},
   "source": [
    "## Results"
   ]
  },
  {
   "cell_type": "code",
   "execution_count": 111,
   "id": "32e908cb",
   "metadata": {},
   "outputs": [
    {
     "name": "stdout",
     "output_type": "stream",
     "text": [
      "lstat      -3.849708\n",
      "dis        -2.553964\n",
      "ptratio    -1.680975\n",
      "indus      -1.081123\n",
      "crim       -0.833875\n",
      "age        -0.506521\n",
      "rad         0.600287\n",
      "chas        0.743002\n",
      "zn          0.878421\n",
      "b           0.964326\n",
      "rm          2.891554\n",
      "const      22.532806\n",
      "dtype: float64\n"
     ]
    }
   ],
   "source": [
    "print(results_without_tn.params.sort_values())"
   ]
  },
  {
   "cell_type": "markdown",
   "id": "0344f4d6",
   "metadata": {},
   "source": [
    "I guess that the model doesn't have a good prediction, beacuse there is a strong correlation between features. As it could be seen, the most important for solder value are <span style=\"color:red\">rm</span> and <span style=\"color:red\">b</span>. Also the solder should avoid lower status population (proportion of adults without, some high school education and proportion of male workers classified as laborers), as the <span style=\"color:red\">lstat</span> variable have the lowest coefficient. Furthermore, as the <span style=\"color:red\">dis</span> variable has also sufficient coefficient, the house should't be located too far from employment centres. So the best house is:  \n",
    "\n",
    "1. Somewhere, where live people with higher education and prosperity;  \n",
    "2. It might be near one of the employment centres; \n",
    "3. There might more rooms in house.  \n",
    "4. Less black people."
   ]
  },
  {
   "cell_type": "code",
   "execution_count": 119,
   "id": "57f0e7e8",
   "metadata": {},
   "outputs": [
    {
     "data": {
      "text/plain": [
       "<AxesSubplot:>"
      ]
     },
     "execution_count": 119,
     "metadata": {},
     "output_type": "execute_result"
    },
    {
     "data": {
      "image/png": "[encoded data removed]",
      "text/plain": [
       "<Figure size 1000x800 with 1 Axes>"
      ]
     },
     "metadata": {},
     "output_type": "display_data"
    }
   ],
   "source": [
    "sns.barplot(x=results_without_tn.params.index, y=results_without_tn.params)"
   ]
  }
 ],
 "metadata": {
  "kernelspec": {
   "display_name": "Python 3 (ipykernel)",
   "language": "python",
   "name": "python3"
  },
  "language_info": {
   "codemirror_mode": {
    "name": "ipython",
    "version": 3
   },
   "file_extension": ".py",
   "mimetype": "text/x-python",
   "name": "python",
   "nbconvert_exporter": "python",
   "pygments_lexer": "ipython3",
   "version": "3.9.13"
  }
 },
 "nbformat": 4,
 "nbformat_minor": 5
}
